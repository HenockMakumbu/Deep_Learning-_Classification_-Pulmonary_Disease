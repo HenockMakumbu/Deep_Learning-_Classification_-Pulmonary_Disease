{
 "cells": [
  {
   "cell_type": "code",
   "execution_count": null,
   "metadata": {
    "_cell_guid": "b1076dfc-b9ad-4769-8c92-a6c4dae69d19",
    "_uuid": "8f2839f25d086af736a60e9eeb907d3b93b6e0e5",
    "execution": {
     "iopub.execute_input": "2023-07-30T19:35:41.429125Z",
     "iopub.status.busy": "2023-07-30T19:35:41.428597Z",
     "iopub.status.idle": "2023-07-30T19:35:41.441792Z",
     "shell.execute_reply": "2023-07-30T19:35:41.440858Z",
     "shell.execute_reply.started": "2023-07-30T19:35:41.429093Z"
    },
    "id": "zzw1ly9xa4ed"
   },
   "outputs": [],
   "source": [
    "import os\n",
    "directory_path=\"/kaggle/input/chest-xray-pneumonia/chest_xray\"\n",
    "classes = os.listdir(directory_path)\n",
    "image_class=[]\n",
    "for class_name in classes:\n",
    "    class_path = os.path.join(directory_path, class_name)\n",
    "    image_class.append(class_path)"
   ]
  },
  {
   "cell_type": "code",
   "execution_count": null,
   "metadata": {
    "execution": {
     "iopub.execute_input": "2023-07-30T19:35:46.245137Z",
     "iopub.status.busy": "2023-07-30T19:35:46.244603Z",
     "iopub.status.idle": "2023-07-30T19:36:15.930676Z",
     "shell.execute_reply": "2023-07-30T19:36:15.929579Z",
     "shell.execute_reply.started": "2023-07-30T19:35:46.245101Z"
    },
    "id": "A_7Zx1yea4ej"
   },
   "outputs": [],
   "source": [
    "import tensorflow as tf\n",
    "import numpy as np\n",
    "import glob\n",
    "import os\n",
    "import matplotlib.pyplot as plt\n",
    "from tensorflow.keras.utils import image_dataset_from_directory\n",
    "from tensorflow.keras import Sequential , Input, layers , losses , optimizers , Model\n",
    "from keras.preprocessing.image import ImageDataGenerator\n",
    "from tensorflow.keras import regularizers\n",
    "import tensorflow as tf\n",
    "train=image_dataset_from_directory(image_class[4], image_size=(180 , 180),batch_size=64,shuffle=True , label_mode='binary')\n",
    "val=image_dataset_from_directory(image_class[3] , image_size=(180 , 180),batch_size=64,shuffle=True,label_mode='binary')\n",
    "test=image_dataset_from_directory(image_class[2], image_size=(180 , 180),batch_size=64,shuffle=True,label_mode='binary')"
   ]
  },
  {
   "cell_type": "code",
   "execution_count": null,
   "metadata": {
    "execution": {
     "iopub.execute_input": "2023-07-30T19:36:26.85852Z",
     "iopub.status.busy": "2023-07-30T19:36:26.858169Z",
     "iopub.status.idle": "2023-07-30T19:37:10.574213Z",
     "shell.execute_reply": "2023-07-30T19:37:10.573172Z",
     "shell.execute_reply.started": "2023-07-30T19:36:26.858491Z"
    },
    "id": "rH3Z_Juta4el"
   },
   "outputs": [],
   "source": [
    "import numpy as np\n",
    "\n",
    "# Assuming you have already created the 'train' dataset using the 'image_dataset_from_directory' function\n",
    "\n",
    "# Initialize empty lists to store images and labels\n",
    "x = []\n",
    "y = []\n",
    "\n",
    "# Iterate over the dataset to access images and labels\n",
    "for images, labels in train:\n",
    "    # Append the batch of images to 'x'\n",
    "    x.append(images.numpy())  # Convert to NumPy array for further processing (optional)\n",
    "\n",
    "    # Append the batch of labels to 'y'\n",
    "    y.append(labels.numpy())  # Convert to NumPy array for further processing (optional)\n",
    "\n",
    "# Concatenate the lists to get the full 'x' and 'y' arrays\n",
    "x = np.concatenate(x, axis=0)\n",
    "y = np.concatenate(y, axis=0)\n",
    "\n",
    "# 'x' is now an array containing all the input images with shape (total_samples, image_height, image_width, num_channels)\n",
    "# 'y' is now an array containing all the labels with shape (total_samples,) in binary format\n",
    "\n",
    "# Optionally, you can check the shapes of 'x' and 'y':\n",
    "print(\"Shape of 'x':\", x.shape)\n",
    "print(\"Shape of 'y':\", y.shape)\n"
   ]
  },
  {
   "cell_type": "code",
   "execution_count": null,
   "metadata": {
    "execution": {
     "iopub.execute_input": "2023-07-30T19:37:33.837841Z",
     "iopub.status.busy": "2023-07-30T19:37:33.837449Z",
     "iopub.status.idle": "2023-07-30T19:37:34.448448Z",
     "shell.execute_reply": "2023-07-30T19:37:34.447097Z",
     "shell.execute_reply.started": "2023-07-30T19:37:33.837809Z"
    },
    "id": "eTlSBlKqa4eo"
   },
   "outputs": [],
   "source": [
    "x=x/250"
   ]
  },
  {
   "cell_type": "markdown",
   "metadata": {
    "id": "xRpzB-URbliu"
   },
   "source": [
    "Train and Test Data"
   ]
  },
  {
   "cell_type": "code",
   "execution_count": null,
   "metadata": {
    "execution": {
     "iopub.execute_input": "2023-07-30T19:37:36.148657Z",
     "iopub.status.busy": "2023-07-30T19:37:36.148278Z",
     "iopub.status.idle": "2023-07-30T19:37:38.177133Z",
     "shell.execute_reply": "2023-07-30T19:37:38.176101Z",
     "shell.execute_reply.started": "2023-07-30T19:37:36.148607Z"
    },
    "id": "fMBC3VoHa4ep"
   },
   "outputs": [],
   "source": [
    "#TO DO : Split the data in to x_train,x_test,y_train,y_test : you can specify the size of your train and test data\n",
    "#************************YOUR CODE Here *****************************\n",
    "\n",
    "# ..."
   ]
  },
  {
   "cell_type": "code",
   "execution_count": null,
   "metadata": {
    "execution": {
     "iopub.execute_input": "2023-07-30T19:37:40.959265Z",
     "iopub.status.busy": "2023-07-30T19:37:40.958743Z",
     "iopub.status.idle": "2023-07-30T19:37:40.965564Z",
     "shell.execute_reply": "2023-07-30T19:37:40.964536Z",
     "shell.execute_reply.started": "2023-07-30T19:37:40.959224Z"
    },
    "id": "edkAiz5ka4er"
   },
   "outputs": [],
   "source": [
    "import numpy as np\n",
    "\n",
    "# Assuming you have already loaded the images into the `x` array\n",
    "# x = np.array(x)\n",
    "\n",
    "# Get the shape of the `x` array\n",
    "image_shape = x[0].shape  # Assuming the images have the same shape, so we get the shape of the first image\n",
    "\n",
    "print(\"Input image shape:\", image_shape)\n"
   ]
  },
  {
   "cell_type": "code",
   "execution_count": null,
   "metadata": {
    "execution": {
     "iopub.execute_input": "2023-07-30T19:37:41.795388Z",
     "iopub.status.busy": "2023-07-30T19:37:41.79501Z",
     "iopub.status.idle": "2023-07-30T19:37:41.803227Z",
     "shell.execute_reply": "2023-07-30T19:37:41.802064Z",
     "shell.execute_reply.started": "2023-07-30T19:37:41.795358Z"
    },
    "id": "_pKL2cUba4es"
   },
   "outputs": [],
   "source": [
    "# Get the shape of the `x` array\n",
    "num_images, height, width = x.shape[:3]  # Extracting the first three dimensions\n",
    "\n",
    "# If the images are grayscale, there won't be a fourth dimension (channels)\n",
    "# In that case, set channels to 1\n",
    "channels = 1 if len(x.shape) == 3 else x.shape[3]\n",
    "\n",
    "print(\"Number of images:\", num_images)\n",
    "print(\"Image height:\", height)\n",
    "print(\"Image width:\", width)\n",
    "print(\"Number of channels (e.g., 3 for RGB, 1 for grayscale):\", channels)"
   ]
  },
  {
   "cell_type": "code",
   "execution_count": null,
   "metadata": {
    "execution": {
     "iopub.execute_input": "2023-07-30T19:38:10.986544Z",
     "iopub.status.busy": "2023-07-30T19:38:10.986177Z",
     "iopub.status.idle": "2023-07-30T19:38:11.124086Z",
     "shell.execute_reply": "2023-07-30T19:38:11.12296Z",
     "shell.execute_reply.started": "2023-07-30T19:38:10.986512Z"
    },
    "id": "THBEn1MOa4et"
   },
   "outputs": [],
   "source": [
    "from keras.models import Sequential\n",
    "from keras.layers import Conv2D, MaxPooling2D, Flatten, Dense, Dropout\n",
    "from keras.regularizers import l2\n",
    "\n",
    "#TO DO: Define a sequential CNN model with L2 regularization, kernel_size: 5\n",
    "#************ YOUR CODE HERE *******************\n",
    "\n",
    "# cnn = ...\n",
    "\n",
    "\n",
    "\n",
    "\n",
    "# TO DO :Compile the model using Adam as optimizer, sparse_categorical_crossentropy as loss fonction and accuracy as metric\n",
    "#*****************YOUR CODE HERE***************************************************\n"
   ]
  },
  {
   "cell_type": "code",
   "execution_count": null,
   "metadata": {
    "execution": {
     "iopub.execute_input": "2023-07-30T19:38:20.405077Z",
     "iopub.status.busy": "2023-07-30T19:38:20.404708Z",
     "iopub.status.idle": "2023-07-30T19:40:10.874849Z",
     "shell.execute_reply": "2023-07-30T19:40:10.872057Z",
     "shell.execute_reply.started": "2023-07-30T19:38:20.405047Z"
    },
    "id": "8t0dSmTSa4et"
   },
   "outputs": [],
   "source": [
    "#TO DO: Fit your CNN model, batch_size=32 with a number of epoch you'll define\n",
    "#****************************YOUR CODE HERE*********************************\n",
    "\n",
    "\n",
    "\n",
    "# history=...."
   ]
  },
  {
   "cell_type": "code",
   "execution_count": 1,
   "metadata": {
    "colab": {
     "base_uri": "https://localhost:8080/",
     "height": 247
    },
    "execution": {
     "iopub.execute_input": "2023-07-30T19:41:00.239337Z",
     "iopub.status.busy": "2023-07-30T19:41:00.238946Z",
     "iopub.status.idle": "2023-07-30T19:41:00.786594Z",
     "shell.execute_reply": "2023-07-30T19:41:00.785654Z",
     "shell.execute_reply.started": "2023-07-30T19:41:00.239306Z"
    },
    "executionInfo": {
     "elapsed": 9,
     "status": "error",
     "timestamp": 1691856902256,
     "user": {
      "displayName": "mamadou gueye",
      "userId": "08729563113881402576"
     },
     "user_tz": 0
    },
    "id": "qdFGSjaNa4ew",
    "outputId": "1f23f58b-9e99-41fa-c5b1-8e7e7f089c98"
   },
   "outputs": [
    {
     "ename": "NameError",
     "evalue": "ignored",
     "output_type": "error",
     "traceback": [
      "\u001b[0;31m---------------------------------------------------------------------------\u001b[0m",
      "\u001b[0;31mNameError\u001b[0m                                 Traceback (most recent call last)",
      "\u001b[0;32m<ipython-input-1-a83fa5688eae>\u001b[0m in \u001b[0;36m<cell line: 2>\u001b[0;34m()\u001b[0m\n\u001b[1;32m      1\u001b[0m \u001b[0;31m# Extract the training and validation loss values from the history object\u001b[0m\u001b[0;34m\u001b[0m\u001b[0;34m\u001b[0m\u001b[0m\n\u001b[0;32m----> 2\u001b[0;31m \u001b[0mtrain_loss\u001b[0m \u001b[0;34m=\u001b[0m \u001b[0mhistory\u001b[0m\u001b[0;34m.\u001b[0m\u001b[0mhistory\u001b[0m\u001b[0;34m[\u001b[0m\u001b[0;34m'loss'\u001b[0m\u001b[0;34m]\u001b[0m\u001b[0;34m\u001b[0m\u001b[0;34m\u001b[0m\u001b[0m\n\u001b[0m\u001b[1;32m      3\u001b[0m \u001b[0mval_loss\u001b[0m \u001b[0;34m=\u001b[0m \u001b[0mhistory\u001b[0m\u001b[0;34m.\u001b[0m\u001b[0mhistory\u001b[0m\u001b[0;34m[\u001b[0m\u001b[0;34m'val_loss'\u001b[0m\u001b[0;34m]\u001b[0m\u001b[0;34m\u001b[0m\u001b[0;34m\u001b[0m\u001b[0m\n\u001b[1;32m      4\u001b[0m \u001b[0;34m\u001b[0m\u001b[0m\n\u001b[1;32m      5\u001b[0m \u001b[0;31m# Create a list of epoch numbers (1 to number of epochs)\u001b[0m\u001b[0;34m\u001b[0m\u001b[0;34m\u001b[0m\u001b[0m\n",
      "\u001b[0;31mNameError\u001b[0m: name 'history' is not defined"
     ]
    }
   ],
   "source": [
    "\n",
    "# Extract the training and validation loss values from the history object\n",
    "train_loss = history.history['loss']\n",
    "val_loss = history.history['val_loss']\n",
    "\n",
    "# Create a list of epoch numbers (1 to number of epochs)\n",
    "epochs = range(1, len(train_loss) + 1)\n",
    "\n",
    "# Plot the loss graph\n",
    "plt.plot(epochs, train_loss, label='Training Loss')\n",
    "plt.plot(epochs, val_loss, label='Validation Loss')\n",
    "plt.title('Training and Validation Loss')\n",
    "plt.xlabel('Epochs')\n",
    "plt.ylabel('Loss')\n",
    "plt.legend()\n",
    "plt.grid(True)\n",
    "plt.show()\n",
    "\n",
    "\n",
    "\n",
    "\n"
   ]
  },
  {
   "cell_type": "code",
   "execution_count": null,
   "metadata": {
    "id": "YVLP67D3a4ex"
   },
   "outputs": [],
   "source": []
  }
 ],
 "metadata": {
  "colab": {
   "provenance": []
  },
  "kernelspec": {
   "display_name": "Python 3 (ipykernel)",
   "language": "python",
   "name": "python3"
  },
  "language_info": {
   "codemirror_mode": {
    "name": "ipython",
    "version": 3
   },
   "file_extension": ".py",
   "mimetype": "text/x-python",
   "name": "python",
   "nbconvert_exporter": "python",
   "pygments_lexer": "ipython3",
   "version": "3.10.12"
  }
 },
 "nbformat": 4,
 "nbformat_minor": 4
}
